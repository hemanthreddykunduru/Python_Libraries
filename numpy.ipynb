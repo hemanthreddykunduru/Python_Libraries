{
 "cells": [
  {
   "cell_type": "code",
   "execution_count": 65,
   "id": "014fbb32",
   "metadata": {},
   "outputs": [],
   "source": [
    "import numpy as np"
   ]
  },
  {
   "cell_type": "code",
   "execution_count": 66,
   "id": "36caf6ea",
   "metadata": {},
   "outputs": [
    {
     "name": "stdout",
     "output_type": "stream",
     "text": [
      "int64\n",
      "[1 2 3 4 5]\n",
      "[1. 2. 3. 4. 5.]\n"
     ]
    }
   ],
   "source": [
    "num1=np.array([1,2,3,4,5],dtype=np.int64)\n",
    "num2=np.array([1,2,3,4,5],dtype='f')\n",
    "print(num1.dtype)\n",
    "print(num1)                                                # making all values as float\n",
    "print(num2)"
   ]
  },
  {
   "cell_type": "markdown",
   "id": "19f9bde7",
   "metadata": {},
   "source": [
    "### taking input from the user"
   ]
  },
  {
   "cell_type": "code",
   "execution_count": 67,
   "id": "877225db",
   "metadata": {},
   "outputs": [
    {
     "name": "stdout",
     "output_type": "stream",
     "text": [
      "enter1:  1\n",
      "enter1:  2\n",
      "enter1:  3\n",
      "enter1:  4\n",
      "enter2:  5\n",
      "enter2:  6\n",
      "enter2:  7\n",
      "enter2:  8\n",
      "[[1 2 3 4]\n",
      " [5 6 7 8]]\n"
     ]
    }
   ],
   "source": [
    "l1=[]\n",
    "l2=[]\n",
    "for i in range(1,5):\n",
    "    inp1=int(input(\"enter1:  \"))\n",
    "    l1.append(inp1)\n",
    "for j in range(1,5):\n",
    "    inp2=int(input(\"enter2:  \"))\n",
    "    l2.append(inp2)\n",
    "print(np.array([l1,l2]))"
   ]
  },
  {
   "cell_type": "code",
   "execution_count": 68,
   "id": "927e7245",
   "metadata": {
    "scrolled": true
   },
   "outputs": [
    {
     "name": "stdout",
     "output_type": "stream",
     "text": [
      "[[ 2  4  6]\n",
      " [10 12 14]\n",
      " [ 2  4  6]]\n"
     ]
    }
   ],
   "source": [
    "x=np.array([[1,2,3],[5,6,7],[1,2,3]])\n",
    "y=np.array([[1,2,3],[5,6,7],[1,2,3]])\n",
    "print(np.add(x,y))"
   ]
  },
  {
   "cell_type": "markdown",
   "id": "270aaab9",
   "metadata": {},
   "source": [
    "# printing Zero's and One's"
   ]
  },
  {
   "cell_type": "markdown",
   "id": "f9e4eb08",
   "metadata": {},
   "source": [
    "#### Zeros are similar to Ones's"
   ]
  },
  {
   "cell_type": "code",
   "execution_count": 69,
   "id": "8ccbbf1f",
   "metadata": {},
   "outputs": [
    {
     "data": {
      "text/plain": [
       "array([0., 0., 0., 0., 0.])"
      ]
     },
     "execution_count": 69,
     "metadata": {},
     "output_type": "execute_result"
    }
   ],
   "source": [
    "ar1_zero=np.zeros(5)\n",
    "ar1_zero"
   ]
  },
  {
   "cell_type": "code",
   "execution_count": 70,
   "id": "8143f383",
   "metadata": {},
   "outputs": [
    {
     "data": {
      "text/plain": [
       "array([[0., 0., 0., 0.],\n",
       "       [0., 0., 0., 0.],\n",
       "       [0., 0., 0., 0.]])"
      ]
     },
     "execution_count": 70,
     "metadata": {},
     "output_type": "execute_result"
    }
   ],
   "source": [
    "ar2_zero=np.zeros((3,4))\n",
    "ar2_zero"
   ]
  },
  {
   "cell_type": "markdown",
   "id": "22abd652",
   "metadata": {},
   "source": [
    "## creating diagonal element"
   ]
  },
  {
   "cell_type": "markdown",
   "id": "f46292cf",
   "metadata": {},
   "source": [
    "#### 'eye'-method is used"
   ]
  },
  {
   "cell_type": "code",
   "execution_count": 71,
   "id": "73f2444c",
   "metadata": {},
   "outputs": [
    {
     "data": {
      "text/plain": [
       "array([[1., 0., 0., 0., 0.],\n",
       "       [0., 1., 0., 0., 0.],\n",
       "       [0., 0., 1., 0., 0.],\n",
       "       [0., 0., 0., 1., 0.],\n",
       "       [0., 0., 0., 0., 1.]])"
      ]
     },
     "execution_count": 71,
     "metadata": {},
     "output_type": "execute_result"
    }
   ],
   "source": [
    "ar_dia=np.eye(5,5)\n",
    "ar_dia"
   ]
  },
  {
   "cell_type": "markdown",
   "id": "6924d352",
   "metadata": {},
   "source": [
    "# random"
   ]
  },
  {
   "cell_type": "markdown",
   "id": "9ee670bf",
   "metadata": {},
   "source": [
    "##### >creating numpy-arr with random numbers"
   ]
  },
  {
   "cell_type": "markdown",
   "id": "523ef2f6",
   "metadata": {},
   "source": [
    "# rand()"
   ]
  },
  {
   "cell_type": "markdown",
   "id": "28c86d8e",
   "metadata": {},
   "source": [
    "### numpy-arr with random numbers"
   ]
  },
  {
   "cell_type": "code",
   "execution_count": 72,
   "id": "74093f1a",
   "metadata": {},
   "outputs": [
    {
     "data": {
      "text/plain": [
       "array([[0.42006541, 0.88662161, 0.42437621, 0.87113191],\n",
       "       [0.91980399, 0.07733105, 0.7744122 , 0.74673479],\n",
       "       [0.65466716, 0.14110764, 0.02705783, 0.59087244]])"
      ]
     },
     "execution_count": 72,
     "metadata": {},
     "output_type": "execute_result"
    }
   ],
   "source": [
    "ran1=np.random.rand(3,4)\n",
    "ran1"
   ]
  },
  {
   "cell_type": "markdown",
   "id": "14bee539",
   "metadata": {},
   "source": [
    "# randn()"
   ]
  },
  {
   "cell_type": "markdown",
   "id": "2688d1c8",
   "metadata": {},
   "source": [
    "###  random value close Zero and +ve or -ve"
   ]
  },
  {
   "cell_type": "code",
   "execution_count": 73,
   "id": "f4c1997e",
   "metadata": {},
   "outputs": [
    {
     "data": {
      "text/plain": [
       "array([[-4.54259849e-01,  1.14246839e+00, -1.41076231e-03,\n",
       "        -2.53465879e-01],\n",
       "       [-1.15909732e+00, -4.11656463e-02,  1.51882668e-01,\n",
       "         2.79986319e-01],\n",
       "       [ 5.34025358e-01,  9.21134481e-01,  9.80716074e-01,\n",
       "        -1.58701344e+00]])"
      ]
     },
     "execution_count": 73,
     "metadata": {},
     "output_type": "execute_result"
    }
   ],
   "source": [
    "ran2=np.random.randn(3,4)\n",
    "ran2"
   ]
  },
  {
   "cell_type": "markdown",
   "id": "a545b534",
   "metadata": {},
   "source": [
    "# ranf() "
   ]
  },
  {
   "cell_type": "markdown",
   "id": "e820a5ab",
   "metadata": {},
   "source": [
    "### used to return random values from a uniform distribution in a specified shape"
   ]
  },
  {
   "cell_type": "markdown",
   "id": "f542ea1b",
   "metadata": {},
   "source": [
    "### range from [0.0,1.0) 1.0 is not incuded and 0.0 is included"
   ]
  },
  {
   "cell_type": "code",
   "execution_count": 74,
   "id": "376d7326",
   "metadata": {},
   "outputs": [
    {
     "data": {
      "text/plain": [
       "array([[0.06327404, 0.85814501, 0.01619706, 0.70188358],\n",
       "       [0.67898557, 0.32101593, 0.86819133, 0.46226659],\n",
       "       [0.38454612, 0.29457578, 0.9714302 , 0.55680231]])"
      ]
     },
     "execution_count": 74,
     "metadata": {},
     "output_type": "execute_result"
    }
   ],
   "source": [
    "ran3=np.random.ranf((3,4))\n",
    "ran3"
   ]
  },
  {
   "cell_type": "markdown",
   "id": "5f662058",
   "metadata": {},
   "source": [
    "# randint()"
   ]
  },
  {
   "cell_type": "markdown",
   "id": "fa67b4b8",
   "metadata": {},
   "source": [
    "### random value B/W given range"
   ]
  },
  {
   "cell_type": "code",
   "execution_count": 75,
   "id": "074dff03",
   "metadata": {},
   "outputs": [
    {
     "data": {
      "text/plain": [
       "array([[ 3, 71, 91, 13],\n",
       "       [85, 32, 59, 20],\n",
       "       [23, 48, 47, 21]])"
      ]
     },
     "execution_count": 75,
     "metadata": {},
     "output_type": "execute_result"
    }
   ],
   "source": [
    "ran1=np.random.randint(1,100,(3,4)) #(3,4)->3x4 matrix \n",
    "                                    #1,100->range\n",
    "ran1"
   ]
  },
  {
   "cell_type": "markdown",
   "id": "91db4e19",
   "metadata": {},
   "source": [
    "# shape"
   ]
  },
  {
   "cell_type": "code",
   "execution_count": 76,
   "id": "a63a2741",
   "metadata": {},
   "outputs": [
    {
     "data": {
      "text/plain": [
       "(3, 2)"
      ]
     },
     "execution_count": 76,
     "metadata": {},
     "output_type": "execute_result"
    }
   ],
   "source": [
    "arr=np.array([[1,2],[3,4],[5,6]])              # finding matrix type and shape\n",
    "arr.shape"
   ]
  },
  {
   "cell_type": "markdown",
   "id": "39cf5101",
   "metadata": {},
   "source": [
    "# array-shape(Reshape)"
   ]
  },
  {
   "cell_type": "code",
   "execution_count": 77,
   "id": "d93304af",
   "metadata": {},
   "outputs": [
    {
     "name": "stdout",
     "output_type": "stream",
     "text": [
      "[[10 20]\n",
      " [30 40]\n",
      " [50 60]]\n"
     ]
    }
   ],
   "source": [
    "res=np.array([[10,20,30],[40,50,60]])\n",
    "print(res.reshape(3,2))"
   ]
  },
  {
   "cell_type": "markdown",
   "id": "27bf2794",
   "metadata": {},
   "source": [
    "# Resize"
   ]
  },
  {
   "cell_type": "code",
   "execution_count": 78,
   "id": "af0926a0",
   "metadata": {},
   "outputs": [
    {
     "name": "stdout",
     "output_type": "stream",
     "text": [
      "[[1 2 3]\n",
      " [4 5 6]]\n"
     ]
    }
   ],
   "source": [
    "resi=np.array([1,2,3,4,5,6,7,8,9])\n",
    "resize_1=np.resize(resi,(2,3))\n",
    "print(resize_1)"
   ]
  },
  {
   "cell_type": "markdown",
   "id": "2b577f8f",
   "metadata": {},
   "source": [
    "### converting rows to colums"
   ]
  },
  {
   "cell_type": "code",
   "execution_count": 79,
   "id": "1e646847",
   "metadata": {},
   "outputs": [
    {
     "name": "stdout",
     "output_type": "stream",
     "text": [
      "[[10 20 30]\n",
      " [40 50 60]\n",
      " [70 80 90]]\n",
      "\n",
      "[[10 40 70]\n",
      " [20 50 80]\n",
      " [30 60 90]]\n"
     ]
    }
   ],
   "source": [
    "res1=np.array([[10,20,30],[40,50,60],[70,80,90]])\n",
    "print(res1)\n",
    "print()                                                   # \" .T \"-> is used to transform rows to columns\n",
    "print(res1.reshape(3,3).T)"
   ]
  },
  {
   "cell_type": "markdown",
   "id": "ab2a52f3",
   "metadata": {},
   "source": [
    "### 1D to 2D array"
   ]
  },
  {
   "cell_type": "code",
   "execution_count": 80,
   "id": "f403fc69",
   "metadata": {},
   "outputs": [
    {
     "name": "stdout",
     "output_type": "stream",
     "text": [
      "[1 2 3 4 5 6 7 3]\n",
      "initial dimentioning:  1\n",
      "\n",
      "[[1 2 3 4]\n",
      " [5 6 7 3]]\n",
      "final dimentioning:  2\n"
     ]
    }
   ],
   "source": [
    "arr1=np.array([1,2,3,4,5,6,7,3])\n",
    "print(arr1)\n",
    "print(\"initial dimentioning: \",arr1.ndim)\n",
    "print(\"\")\n",
    "arr2=arr1.reshape(2,4)                                   # 'ndim'-> is used to find dimentioning of given matrix\n",
    "print(arr2)\n",
    "print(\"final dimentioning: \",arr2.ndim)"
   ]
  },
  {
   "cell_type": "markdown",
   "id": "e8bb871b",
   "metadata": {},
   "source": [
    "# Mathematical Operaions"
   ]
  },
  {
   "cell_type": "markdown",
   "id": "661595e2",
   "metadata": {},
   "source": [
    "### simple operations "
   ]
  },
  {
   "cell_type": "code",
   "execution_count": 81,
   "id": "7f81d2ba",
   "metadata": {},
   "outputs": [
    {
     "name": "stdout",
     "output_type": "stream",
     "text": [
      "increasing the arr by 3:   [4 5 6 7 8]\n",
      "adding the 2 same length arr:   [ 5  8 10 12 14]\n"
     ]
    }
   ],
   "source": [
    "import numpy as np\n",
    "mat=np.array([1,2,3,4,5])\n",
    "mat1=np.array([4,6,7,8,9])\n",
    "var_sum=mat+3                                  # each number is increased by 3 it's work with \" + - * / % \"\n",
    "print(\"increasing the arr by 3:  \",var_sum)\n",
    "\n",
    "var_sum1=mat+mat1                             # each number in the array is get added with it's corresponding value in the array\n",
    "print(\"adding the 2 same length arr:  \",var_sum1)\n",
    "\n",
    "# it's also written like np.(\"add\",\"subtract\",\"multiply\",\"divide\",\"mod\",\"power\"(mat,mat1),reciprocal(mat || mat1))\n",
    "# sum=np.add(a,b)"
   ]
  },
  {
   "cell_type": "markdown",
   "id": "cb56be0c",
   "metadata": {},
   "source": [
    "# Some more Operations"
   ]
  },
  {
   "cell_type": "code",
   "execution_count": 82,
   "id": "13d22214",
   "metadata": {},
   "outputs": [
    {
     "name": "stdout",
     "output_type": "stream",
     "text": [
      "minimum num:  0 Position:  5\n",
      "maximum num:  67 Position:  3\n"
     ]
    }
   ],
   "source": [
    "import numpy as np\n",
    "op1=np.array([1,2,3,67,9,0,65,33])\n",
    "print(\"minimum num: \",np.min(op1),\"Position: \",np.argmin(op1))\n",
    "print(\"maximum num: \",np.max(op1),\"Position: \",np.argmax(op1))\n",
    "\n",
    "# \" argmin \"-> is to find the min value position\n",
    "# \" argmax \"-> is to find the max value position"
   ]
  },
  {
   "cell_type": "code",
   "execution_count": 83,
   "id": "e70f6da3",
   "metadata": {},
   "outputs": [
    {
     "name": "stdout",
     "output_type": "stream",
     "text": [
      "[[2 1 3]\n",
      " [9 5 6]\n",
      " [4 8 7]]\n",
      "column min:  [2 1 3]\n",
      "row min:     [1 5 4]\n",
      "column max:  [9 8 7]\n",
      "row max:     [3 9 8]\n"
     ]
    }
   ],
   "source": [
    "op2=np.array([[2,1,3],[9,5,6],[4,8,7]])\n",
    "print(op2)\n",
    "print(\"column min: \",np.min(op2,axis=0))       # 1st column min,2rd column min and 3nd column min\n",
    "print(\"row min:    \",np.min(op2,axis=1))       # 1st row min,2rd row min and 3nd row min\n",
    "print(\"column max: \",np.max(op2,axis=0))       # 1st column max,2rd column max and 3nd column max\n",
    "print(\"row max:    \",np.max(op2,axis=1))       # 1st row max,2rd row max and 3nd row max\n",
    "# axis =1 for the row\n",
    "# axis=0 for the column\n",
    "\n",
    "\n",
    "\n",
    "\n",
    "# in the place of min or max you can use any of \n",
    "# \"min\",\"max\",\"argmin\",\"argmax\",\"sqrt\",\"sin\",\"cos\",\"cumsum\"......... And many more!\n",
    "# cumsum is [1,4,3]           1st place same\n",
    "# step-1 ->  [1,1+4,_]        2nd place 1+4 \n",
    "# step-2 ->  [1,5,5+3]        3rd place 4+3"
   ]
  },
  {
   "cell_type": "markdown",
   "id": "40e6e191",
   "metadata": {},
   "source": [
    "# Slicing or accessing in an array"
   ]
  },
  {
   "cell_type": "code",
   "execution_count": 84,
   "id": "9efb3754",
   "metadata": {},
   "outputs": [
    {
     "name": "stdout",
     "output_type": "stream",
     "text": [
      "2 to 5:      [2 3 4 5]\n",
      "2 to end:    [2 3 4 5 6 7]\n",
      "start to 5:  [1 2 3 4 5]\n"
     ]
    }
   ],
   "source": [
    "sli=np.array([1,2,3,4,5,6,7])\n",
    "#             0,1,2,3,4,5,6\n",
    "#           -7,-6,-5,-4,-3,-2,-1\n",
    "print(\"2 to 5:     \",sli[1:5])\n",
    "print(\"2 to end:   \",sli[1:])           # x[  start   :  stop  :  step  ]\n",
    "print(\"start to 5: \",sli[:5])"
   ]
  },
  {
   "cell_type": "code",
   "execution_count": 85,
   "id": "81fbc8d1",
   "metadata": {},
   "outputs": [
    {
     "name": "stdout",
     "output_type": "stream",
     "text": [
      "7to 5:  [7 6 5]\n"
     ]
    }
   ],
   "source": [
    "# accessing a value from the matrix\n",
    "sli1=np.array([[1,2,3,4,5],[9,8,7,6,5],[11,12,13,14,15]])\n",
    "# printing 2nd row's some elements\n",
    "print(\"7to 5: \",sli1[1,2:]) # here '1' stands for 1'st row of the matrix"
   ]
  },
  {
   "cell_type": "markdown",
   "id": "776a3f3d",
   "metadata": {},
   "source": [
    "# indentation"
   ]
  },
  {
   "cell_type": "code",
   "execution_count": 86,
   "id": "325f8593",
   "metadata": {},
   "outputs": [
    {
     "name": "stdout",
     "output_type": "stream",
     "text": [
      "9\n",
      "8\n",
      "7\n",
      "6\n",
      "5\n",
      "4\n",
      "3\n",
      "2\n"
     ]
    }
   ],
   "source": [
    "ind=np.array([[9,8,7,6],[5,4,3,2]])        # Displaying all the elements in an list type\n",
    "for i in np.nditer(ind):\n",
    "    print(i)"
   ]
  },
  {
   "cell_type": "markdown",
   "id": "1d7f31a8",
   "metadata": {},
   "source": [
    "### taking position of all values using row's and column's as (0,1,2,..)"
   ]
  },
  {
   "cell_type": "code",
   "execution_count": 87,
   "id": "5043ee72",
   "metadata": {},
   "outputs": [
    {
     "name": "stdout",
     "output_type": "stream",
     "text": [
      "(0, 0, 0) 9\n",
      "(0, 0, 1) 8\n",
      "(0, 0, 2) 7\n",
      "(0, 1, 0) 5\n",
      "(0, 1, 1) 4\n",
      "(0, 1, 2) 3\n",
      "(0, 2, 0) 2\n",
      "(0, 2, 1) 6\n",
      "(0, 2, 2) 3\n"
     ]
    }
   ],
   "source": [
    "ind1=np.array([[[9,8,7],[5,4,3],[2,6,3]]])\n",
    "for i,d in np.ndenumerate(ind1):\n",
    "    print(i,d)\n",
    "    \n",
    "# 9 is at 0'th row 0'th column and 3 is at 1'st row 2'nd column"
   ]
  },
  {
   "cell_type": "markdown",
   "id": "c584f41e",
   "metadata": {},
   "source": [
    "# Copy vs View"
   ]
  },
  {
   "cell_type": "markdown",
   "id": "5b87143d",
   "metadata": {},
   "source": [
    "##### actually copy and view both are same but if we change data in view automatically it changes original data"
   ]
  },
  {
   "cell_type": "markdown",
   "id": "be0b6c33",
   "metadata": {},
   "source": [
    "### copy:copy is copy of an array in antother array\n",
    "### view:view is an otiginal array"
   ]
  },
  {
   "cell_type": "code",
   "execution_count": 88,
   "id": "183802e4",
   "metadata": {},
   "outputs": [
    {
     "name": "stdout",
     "output_type": "stream",
     "text": [
      "original:  [ 1 40  3  4]\n",
      "copy:      [1 2 3 4]\n"
     ]
    }
   ],
   "source": [
    "a=np.array([1,2,3,4])\n",
    "co=a.copy()\n",
    "a[1]=40            # making of 2 as 40\n",
    "print(\"original: \",a)\n",
    "print(\"copy:     \",co)"
   ]
  },
  {
   "cell_type": "code",
   "execution_count": 89,
   "id": "88d5b86d",
   "metadata": {},
   "outputs": [
    {
     "name": "stdout",
     "output_type": "stream",
     "text": [
      "original:  [ 1 40  3  4]\n",
      "view:      [ 1 40  3  4]\n"
     ]
    }
   ],
   "source": [
    "a1=np.array([1,2,3,4])\n",
    "vi=a.view()\n",
    "a1[1]=40            # making of 2 as 40\n",
    "print(\"original: \",a1)\n",
    "print(\"view:     \",vi)"
   ]
  },
  {
   "cell_type": "markdown",
   "id": "e94f5a6a",
   "metadata": {},
   "source": [
    "# searching"
   ]
  },
  {
   "cell_type": "markdown",
   "id": "e335a8c4",
   "metadata": {},
   "source": [
    "#### Searching w.r.t value"
   ]
  },
  {
   "cell_type": "code",
   "execution_count": 90,
   "id": "1ddc0872",
   "metadata": {},
   "outputs": [
    {
     "name": "stdout",
     "output_type": "stream",
     "text": [
      "(array([1, 4, 6], dtype=int64),)\n",
      "(array([ 3,  7, 10], dtype=int64),)\n"
     ]
    }
   ],
   "source": [
    "sea1=np.array([1,2,3,4,2,5,2,5,6,7])\n",
    "sea2=np.array([1,3,6,4,7,6,5,4,7,5,4])\n",
    "#  index       0 1 2 3 4 5 6 7 8 9 10\n",
    "x_sea1=np.where(sea1==2)\n",
    "x_sea2=np.where(sea2==4)\n",
    "print(x_sea1)\n",
    "print(x_sea2)"
   ]
  },
  {
   "cell_type": "markdown",
   "id": "5073146c",
   "metadata": {},
   "source": [
    "#### searchsorted"
   ]
  },
  {
   "cell_type": "code",
   "execution_count": 91,
   "id": "58e60c1e",
   "metadata": {},
   "outputs": [
    {
     "name": "stdout",
     "output_type": "stream",
     "text": [
      "4\n",
      "9\n"
     ]
    }
   ],
   "source": [
    "sor=np.array([1,2,3,4,6,7,8,9,10])\n",
    "#  index      0 1 2 3 4 5 6 7 8\n",
    "sor1=np.searchsorted(sor,5)           # at what place in acending order we need to repleace\n",
    "sor2=np.searchsorted(sor,11) \n",
    "print(sor1)\n",
    "print(sor2)"
   ]
  },
  {
   "cell_type": "markdown",
   "id": "4a0361f9",
   "metadata": {},
   "source": [
    "# shuffling elements in an array"
   ]
  },
  {
   "cell_type": "code",
   "execution_count": 92,
   "id": "0b127e72",
   "metadata": {},
   "outputs": [
    {
     "name": "stdout",
     "output_type": "stream",
     "text": [
      "[5 1 2 4 8 6 7 3]\n"
     ]
    }
   ],
   "source": [
    "shu=np.array([1,2,3,4,5,6,7,8])\n",
    "np.random.shuffle(shu)\n",
    "print(shu)"
   ]
  },
  {
   "cell_type": "markdown",
   "id": "29a718f3",
   "metadata": {},
   "source": [
    "#### removing of repeated numbers in an array and transforms into acending order"
   ]
  },
  {
   "cell_type": "code",
   "execution_count": 93,
   "id": "ffa5055b",
   "metadata": {},
   "outputs": [
    {
     "name": "stdout",
     "output_type": "stream",
     "text": [
      "[1 2 3 4 5 7 8 9]\n"
     ]
    }
   ],
   "source": [
    "rep=np.array([1,9,9,9,4,2,4,3,2,3,5,3,7,8,9])\n",
    "rep1=np.unique(rep)\n",
    "print(rep1)"
   ]
  },
  {
   "cell_type": "markdown",
   "id": "5c3ae5a8",
   "metadata": {},
   "source": [
    "# Add or append method"
   ]
  },
  {
   "cell_type": "code",
   "execution_count": 94,
   "id": "84b7cf76",
   "metadata": {},
   "outputs": [
    {
     "name": "stdout",
     "output_type": "stream",
     "text": [
      "[1 2 3 4]\n",
      "[1 2 3 4 7]\n"
     ]
    }
   ],
   "source": [
    "app=np.array([1,2,3,4])\n",
    "print(app)\n",
    "app1=np.append(app,7)\n",
    "print(app1)"
   ]
  },
  {
   "cell_type": "code",
   "execution_count": 95,
   "id": "f4d30f7f",
   "metadata": {},
   "outputs": [
    {
     "name": "stdout",
     "output_type": "stream",
     "text": [
      "[[ 1  2  3]\n",
      " [ 1  2  3]\n",
      " [11 12 13]]\n"
     ]
    }
   ],
   "source": [
    "app2=np.array([[1,2,3],[1,2,3]])\n",
    "app3=np.append(app2,[[11,12,13]],axis=0)\n",
    "print(app3)"
   ]
  },
  {
   "cell_type": "markdown",
   "id": "2f66c8f4",
   "metadata": {},
   "source": [
    "# Delete"
   ]
  },
  {
   "cell_type": "code",
   "execution_count": 96,
   "id": "a12df29f",
   "metadata": {},
   "outputs": [
    {
     "name": "stdout",
     "output_type": "stream",
     "text": [
      "[1 2 4 5]\n"
     ]
    }
   ],
   "source": [
    "del1=np.array([1,2,3,4,5])\n",
    "del2=np.delete(del1,2) # deleting 2'nd index number\n",
    "print(del2)"
   ]
  },
  {
   "cell_type": "markdown",
   "id": "9d92ff57",
   "metadata": {},
   "source": [
    "# Matrix"
   ]
  },
  {
   "cell_type": "code",
   "execution_count": 97,
   "id": "ee440511",
   "metadata": {},
   "outputs": [
    {
     "name": "stdout",
     "output_type": "stream",
     "text": [
      "[[1 2 3]\n",
      " [4 5 6]\n",
      " [7 8 9]]\n"
     ]
    }
   ],
   "source": [
    "import numpy as np\n",
    "mat=np.matrix([[1,2,3],[4,5,6],[7,8,9]])\n",
    "print(mat)"
   ]
  },
  {
   "cell_type": "code",
   "execution_count": 98,
   "id": "5d52b982",
   "metadata": {},
   "outputs": [
    {
     "name": "stdout",
     "output_type": "stream",
     "text": [
      "[[2 4 6]\n",
      " [2 4 6]\n",
      " [2 4 6]]\n"
     ]
    }
   ],
   "source": [
    "mat1=np.matrix([[1,2,3],[1,2,3],[1,2,3]])\n",
    "mat2=np.matrix([[1,2,3],[1,2,3],[1,2,3]])\n",
    "print(mat1+mat2)"
   ]
  },
  {
   "cell_type": "code",
   "execution_count": 99,
   "id": "47e1e19a",
   "metadata": {},
   "outputs": [
    {
     "name": "stdout",
     "output_type": "stream",
     "text": [
      "[[ 6 12 18]\n",
      " [ 6 12 18]\n",
      " [ 6 12 18]]\n"
     ]
    }
   ],
   "source": [
    "# multiplication of 2 matrix\n",
    "print(np.matmul(mat1,mat2))"
   ]
  },
  {
   "cell_type": "markdown",
   "id": "53be95f2",
   "metadata": {},
   "source": [
    "# Transpose of a matrix"
   ]
  },
  {
   "cell_type": "markdown",
   "id": "2738676f",
   "metadata": {},
   "source": [
    "### changing rows into columns & colums into rows"
   ]
  },
  {
   "cell_type": "code",
   "execution_count": 100,
   "id": "5f6cf04c",
   "metadata": {},
   "outputs": [
    {
     "name": "stdout",
     "output_type": "stream",
     "text": [
      "[[1 2 3]\n",
      " [4 5 6]\n",
      " [7 8 9]]\n",
      "\n",
      "[[1 4 7]\n",
      " [2 5 8]\n",
      " [3 6 9]]\n"
     ]
    }
   ],
   "source": [
    "trn=np.matrix([[1,2,3],[4,5,6],[7,8,9]])\n",
    "print(trn)\n",
    "print()\n",
    "print(np.transpose(trn))             #insted of transpose we can use \" T \""
   ]
  },
  {
   "cell_type": "markdown",
   "id": "1781a6be",
   "metadata": {},
   "source": [
    "# inverse of a matrix"
   ]
  },
  {
   "cell_type": "code",
   "execution_count": 101,
   "id": "8fd16b8a",
   "metadata": {},
   "outputs": [
    {
     "name": "stdout",
     "output_type": "stream",
     "text": [
      "[[-1.66666667  0.66666667]\n",
      " [ 1.33333333 -0.33333333]]\n"
     ]
    }
   ],
   "source": [
    "inv=np.matrix([[1,2],[4,5]])\n",
    "print(np.linalg.inv(inv))"
   ]
  },
  {
   "cell_type": "markdown",
   "id": "36c21245",
   "metadata": {},
   "source": [
    "# power of a matrix"
   ]
  },
  {
   "cell_type": "code",
   "execution_count": 102,
   "id": "d46286c4",
   "metadata": {},
   "outputs": [
    {
     "name": "stdout",
     "output_type": "stream",
     "text": [
      "[[ 9 12]\n",
      " [24 33]]\n"
     ]
    }
   ],
   "source": [
    "pov=np.matrix([[1,2],[4,5]])\n",
    "print(np.linalg.matrix_power(pov,2))  # here 2 is the power"
   ]
  },
  {
   "cell_type": "markdown",
   "id": "227954d3",
   "metadata": {},
   "source": [
    "# Determinant of a matrix"
   ]
  },
  {
   "cell_type": "code",
   "execution_count": 103,
   "id": "ff8f1f1a",
   "metadata": {},
   "outputs": [
    {
     "name": "stdout",
     "output_type": "stream",
     "text": [
      "[[ 6  1  1]\n",
      " [ 4 -2  5]\n",
      " [ 2  8  7]]\n",
      "\n",
      "Det:  -306.0\n"
     ]
    }
   ],
   "source": [
    "b = np.array([[6,1,1], [4, -2, 5], [2,8,7]]) \n",
    "print(b)\n",
    "print()\n",
    "print(\"Det: \",np.linalg.det(b))"
   ]
  }
 ],
 "metadata": {
  "kernelspec": {
   "display_name": "Python 3 (ipykernel)",
   "language": "python",
   "name": "python3"
  },
  "language_info": {
   "codemirror_mode": {
    "name": "ipython",
    "version": 3
   },
   "file_extension": ".py",
   "mimetype": "text/x-python",
   "name": "python",
   "nbconvert_exporter": "python",
   "pygments_lexer": "ipython3",
   "version": "3.9.13"
  }
 },
 "nbformat": 4,
 "nbformat_minor": 5
}
